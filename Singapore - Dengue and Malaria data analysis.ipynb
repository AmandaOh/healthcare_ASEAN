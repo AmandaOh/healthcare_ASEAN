{
 "cells": [
  {
   "cell_type": "code",
   "execution_count": 1,
   "metadata": {
    "collapsed": true
   },
   "outputs": [],
   "source": [
    "%matplotlib inline\n",
    "import numpy as np\n",
    "import os\n",
    "import pandas as pd\n",
    "import matplotlib.pyplot as plt"
   ]
  },
  {
   "cell_type": "code",
   "execution_count": 2,
   "metadata": {
    "collapsed": true
   },
   "outputs": [],
   "source": [
    "weekly_disease_data = pd.read_csv(\"./raw_data/weekly-infectious-bulletin-cases.csv\")"
   ]
  },
  {
   "cell_type": "code",
   "execution_count": 9,
   "metadata": {
    "collapsed": false
   },
   "outputs": [
    {
     "data": {
      "text/html": [
       "<div>\n",
       "<table border=\"1\" class=\"dataframe\">\n",
       "  <thead>\n",
       "    <tr style=\"text-align: right;\">\n",
       "      <th></th>\n",
       "      <th>epi_week</th>\n",
       "      <th>disease</th>\n",
       "      <th>number_of_cases</th>\n",
       "    </tr>\n",
       "  </thead>\n",
       "  <tbody>\n",
       "    <tr>\n",
       "      <th>0</th>\n",
       "      <td>2012-W01</td>\n",
       "      <td>Acute Viral hepatitis B</td>\n",
       "      <td>0</td>\n",
       "    </tr>\n",
       "    <tr>\n",
       "      <th>1</th>\n",
       "      <td>2012-W01</td>\n",
       "      <td>Acute Viral hepatitis C</td>\n",
       "      <td>0</td>\n",
       "    </tr>\n",
       "    <tr>\n",
       "      <th>2</th>\n",
       "      <td>2012-W01</td>\n",
       "      <td>Avian Influenza</td>\n",
       "      <td>0</td>\n",
       "    </tr>\n",
       "    <tr>\n",
       "      <th>3</th>\n",
       "      <td>2012-W01</td>\n",
       "      <td>Campylobacterenterosis</td>\n",
       "      <td>6</td>\n",
       "    </tr>\n",
       "    <tr>\n",
       "      <th>4</th>\n",
       "      <td>2012-W01</td>\n",
       "      <td>Chikungunya Fever</td>\n",
       "      <td>0</td>\n",
       "    </tr>\n",
       "  </tbody>\n",
       "</table>\n",
       "</div>"
      ],
      "text/plain": [
       "   epi_week                  disease  number_of_cases\n",
       "0  2012-W01  Acute Viral hepatitis B                0\n",
       "1  2012-W01  Acute Viral hepatitis C                0\n",
       "2  2012-W01          Avian Influenza                0\n",
       "3  2012-W01   Campylobacterenterosis                6\n",
       "4  2012-W01        Chikungunya Fever                0"
      ]
     },
     "execution_count": 9,
     "metadata": {},
     "output_type": "execute_result"
    }
   ],
   "source": [
    "weekly_disease_data.head()"
   ]
  },
  {
   "cell_type": "code",
   "execution_count": 8,
   "metadata": {
    "collapsed": false
   },
   "outputs": [],
   "source": [
    "diseases = weekly_disease_data['disease'].unique()"
   ]
  },
  {
   "cell_type": "markdown",
   "metadata": {},
   "source": [
    "### Print the list of diseases available in the data"
   ]
  },
  {
   "cell_type": "code",
   "execution_count": 12,
   "metadata": {
    "collapsed": false
   },
   "outputs": [
    {
     "name": "stdout",
     "output_type": "stream",
     "text": [
      "1 Acute Viral hepatitis B\n",
      "2 Acute Viral hepatitis C\n",
      "3 Avian Influenza\n",
      "4 Campylobacterenterosis\n",
      "5 Chikungunya Fever\n",
      "6 Cholera\n",
      "7 Dengue Fever\n",
      "8 Dengue Haemorrhagic Fever\n",
      "9 Diphtheria\n",
      "10 Encephalitis\n",
      "11 Haemophilus influenzae type b\n",
      "12 Hand, Foot Mouth Disease\n",
      "13 Legionellosis\n",
      "14 Malaria\n",
      "15 Measles\n",
      "16 Melioidosis\n",
      "17 Meningococcal Infection\n",
      "18 Mumps\n",
      "19 Nipah virus infection\n",
      "20 Paratyphoid\n",
      "21 Pertussis\n",
      "22 Plague\n",
      "23 Pneumococcal Disease (invasive)\n",
      "24 Poliomyelitis\n",
      "25 Rubella\n",
      "26 Salmonellosis(non-enteric fevers)\n",
      "27 SARS\n",
      "28 Typhoid\n",
      "29 Viral Hepatitis A\n",
      "30 Viral Hepatitis E\n",
      "31 Yellow Fever\n"
     ]
    }
   ],
   "source": [
    "for i, dis in enumerate(diseases):\n",
    "    print i+1, dis"
   ]
  },
  {
   "cell_type": "markdown",
   "metadata": {},
   "source": [
    "### Add year and week column to the dataframe"
   ]
  },
  {
   "cell_type": "code",
   "execution_count": 29,
   "metadata": {
    "collapsed": true
   },
   "outputs": [],
   "source": [
    "weekly_disease_data['year'] = weekly_disease_data['epi_week'].apply(lambda x: int(x[:4]))"
   ]
  },
  {
   "cell_type": "code",
   "execution_count": 31,
   "metadata": {
    "collapsed": false
   },
   "outputs": [],
   "source": [
    "weekly_disease_data['week'] = weekly_disease_data['epi_week'].apply(lambda x: int(x[6:]))"
   ]
  },
  {
   "cell_type": "code",
   "execution_count": 32,
   "metadata": {
    "collapsed": false
   },
   "outputs": [
    {
     "data": {
      "text/html": [
       "<div>\n",
       "<table border=\"1\" class=\"dataframe\">\n",
       "  <thead>\n",
       "    <tr style=\"text-align: right;\">\n",
       "      <th></th>\n",
       "      <th>epi_week</th>\n",
       "      <th>disease</th>\n",
       "      <th>number_of_cases</th>\n",
       "      <th>year</th>\n",
       "      <th>week</th>\n",
       "    </tr>\n",
       "  </thead>\n",
       "  <tbody>\n",
       "    <tr>\n",
       "      <th>0</th>\n",
       "      <td>2012-W01</td>\n",
       "      <td>Acute Viral hepatitis B</td>\n",
       "      <td>0</td>\n",
       "      <td>2012</td>\n",
       "      <td>1</td>\n",
       "    </tr>\n",
       "    <tr>\n",
       "      <th>1</th>\n",
       "      <td>2012-W01</td>\n",
       "      <td>Acute Viral hepatitis C</td>\n",
       "      <td>0</td>\n",
       "      <td>2012</td>\n",
       "      <td>1</td>\n",
       "    </tr>\n",
       "    <tr>\n",
       "      <th>2</th>\n",
       "      <td>2012-W01</td>\n",
       "      <td>Avian Influenza</td>\n",
       "      <td>0</td>\n",
       "      <td>2012</td>\n",
       "      <td>1</td>\n",
       "    </tr>\n",
       "    <tr>\n",
       "      <th>3</th>\n",
       "      <td>2012-W01</td>\n",
       "      <td>Campylobacterenterosis</td>\n",
       "      <td>6</td>\n",
       "      <td>2012</td>\n",
       "      <td>1</td>\n",
       "    </tr>\n",
       "    <tr>\n",
       "      <th>4</th>\n",
       "      <td>2012-W01</td>\n",
       "      <td>Chikungunya Fever</td>\n",
       "      <td>0</td>\n",
       "      <td>2012</td>\n",
       "      <td>1</td>\n",
       "    </tr>\n",
       "  </tbody>\n",
       "</table>\n",
       "</div>"
      ],
      "text/plain": [
       "   epi_week                  disease  number_of_cases  year  week\n",
       "0  2012-W01  Acute Viral hepatitis B                0  2012     1\n",
       "1  2012-W01  Acute Viral hepatitis C                0  2012     1\n",
       "2  2012-W01          Avian Influenza                0  2012     1\n",
       "3  2012-W01   Campylobacterenterosis                6  2012     1\n",
       "4  2012-W01        Chikungunya Fever                0  2012     1"
      ]
     },
     "execution_count": 32,
     "metadata": {},
     "output_type": "execute_result"
    }
   ],
   "source": [
    "weekly_disease_data.head()"
   ]
  },
  {
   "cell_type": "markdown",
   "metadata": {},
   "source": [
    "# Extract out the Malaria data"
   ]
  },
  {
   "cell_type": "code",
   "execution_count": 33,
   "metadata": {
    "collapsed": true
   },
   "outputs": [],
   "source": [
    "malaria_data = weekly_disease_data[weekly_disease_data['disease']=='Malaria']"
   ]
  },
  {
   "cell_type": "code",
   "execution_count": 34,
   "metadata": {
    "collapsed": false
   },
   "outputs": [
    {
     "data": {
      "text/html": [
       "<div>\n",
       "<table border=\"1\" class=\"dataframe\">\n",
       "  <thead>\n",
       "    <tr style=\"text-align: right;\">\n",
       "      <th></th>\n",
       "      <th>epi_week</th>\n",
       "      <th>disease</th>\n",
       "      <th>number_of_cases</th>\n",
       "      <th>year</th>\n",
       "      <th>week</th>\n",
       "    </tr>\n",
       "  </thead>\n",
       "  <tbody>\n",
       "    <tr>\n",
       "      <th>13</th>\n",
       "      <td>2012-W01</td>\n",
       "      <td>Malaria</td>\n",
       "      <td>1</td>\n",
       "      <td>2012</td>\n",
       "      <td>1</td>\n",
       "    </tr>\n",
       "    <tr>\n",
       "      <th>44</th>\n",
       "      <td>2012-W02</td>\n",
       "      <td>Malaria</td>\n",
       "      <td>2</td>\n",
       "      <td>2012</td>\n",
       "      <td>2</td>\n",
       "    </tr>\n",
       "    <tr>\n",
       "      <th>75</th>\n",
       "      <td>2012-W03</td>\n",
       "      <td>Malaria</td>\n",
       "      <td>2</td>\n",
       "      <td>2012</td>\n",
       "      <td>3</td>\n",
       "    </tr>\n",
       "    <tr>\n",
       "      <th>106</th>\n",
       "      <td>2012-W04</td>\n",
       "      <td>Malaria</td>\n",
       "      <td>3</td>\n",
       "      <td>2012</td>\n",
       "      <td>4</td>\n",
       "    </tr>\n",
       "    <tr>\n",
       "      <th>137</th>\n",
       "      <td>2012-W05</td>\n",
       "      <td>Malaria</td>\n",
       "      <td>1</td>\n",
       "      <td>2012</td>\n",
       "      <td>5</td>\n",
       "    </tr>\n",
       "  </tbody>\n",
       "</table>\n",
       "</div>"
      ],
      "text/plain": [
       "     epi_week  disease  number_of_cases  year  week\n",
       "13   2012-W01  Malaria                1  2012     1\n",
       "44   2012-W02  Malaria                2  2012     2\n",
       "75   2012-W03  Malaria                2  2012     3\n",
       "106  2012-W04  Malaria                3  2012     4\n",
       "137  2012-W05  Malaria                1  2012     5"
      ]
     },
     "execution_count": 34,
     "metadata": {},
     "output_type": "execute_result"
    }
   ],
   "source": [
    "malaria_data.head()"
   ]
  },
  {
   "cell_type": "markdown",
   "metadata": {},
   "source": [
    "## Extract out the Dengue data"
   ]
  },
  {
   "cell_type": "code",
   "execution_count": 35,
   "metadata": {
    "collapsed": true
   },
   "outputs": [],
   "source": [
    "dengue_fever_data = weekly_disease_data[weekly_disease_data['disease']=='Dengue Fever']"
   ]
  },
  {
   "cell_type": "code",
   "execution_count": 36,
   "metadata": {
    "collapsed": false
   },
   "outputs": [
    {
     "data": {
      "text/html": [
       "<div>\n",
       "<table border=\"1\" class=\"dataframe\">\n",
       "  <thead>\n",
       "    <tr style=\"text-align: right;\">\n",
       "      <th></th>\n",
       "      <th>epi_week</th>\n",
       "      <th>disease</th>\n",
       "      <th>number_of_cases</th>\n",
       "      <th>year</th>\n",
       "      <th>week</th>\n",
       "    </tr>\n",
       "  </thead>\n",
       "  <tbody>\n",
       "    <tr>\n",
       "      <th>6</th>\n",
       "      <td>2012-W01</td>\n",
       "      <td>Dengue Fever</td>\n",
       "      <td>74</td>\n",
       "      <td>2012</td>\n",
       "      <td>1</td>\n",
       "    </tr>\n",
       "    <tr>\n",
       "      <th>37</th>\n",
       "      <td>2012-W02</td>\n",
       "      <td>Dengue Fever</td>\n",
       "      <td>64</td>\n",
       "      <td>2012</td>\n",
       "      <td>2</td>\n",
       "    </tr>\n",
       "    <tr>\n",
       "      <th>68</th>\n",
       "      <td>2012-W03</td>\n",
       "      <td>Dengue Fever</td>\n",
       "      <td>60</td>\n",
       "      <td>2012</td>\n",
       "      <td>3</td>\n",
       "    </tr>\n",
       "    <tr>\n",
       "      <th>99</th>\n",
       "      <td>2012-W04</td>\n",
       "      <td>Dengue Fever</td>\n",
       "      <td>50</td>\n",
       "      <td>2012</td>\n",
       "      <td>4</td>\n",
       "    </tr>\n",
       "    <tr>\n",
       "      <th>130</th>\n",
       "      <td>2012-W05</td>\n",
       "      <td>Dengue Fever</td>\n",
       "      <td>84</td>\n",
       "      <td>2012</td>\n",
       "      <td>5</td>\n",
       "    </tr>\n",
       "  </tbody>\n",
       "</table>\n",
       "</div>"
      ],
      "text/plain": [
       "     epi_week       disease  number_of_cases  year  week\n",
       "6    2012-W01  Dengue Fever               74  2012     1\n",
       "37   2012-W02  Dengue Fever               64  2012     2\n",
       "68   2012-W03  Dengue Fever               60  2012     3\n",
       "99   2012-W04  Dengue Fever               50  2012     4\n",
       "130  2012-W05  Dengue Fever               84  2012     5"
      ]
     },
     "execution_count": 36,
     "metadata": {},
     "output_type": "execute_result"
    }
   ],
   "source": [
    "dengue_fever_data.head()"
   ]
  },
  {
   "cell_type": "code",
   "execution_count": 37,
   "metadata": {
    "collapsed": true
   },
   "outputs": [],
   "source": [
    "dengue_h_fever_data = weekly_disease_data[weekly_disease_data['disease']=='Dengue Haemorrhagic Fever']"
   ]
  },
  {
   "cell_type": "code",
   "execution_count": 38,
   "metadata": {
    "collapsed": false
   },
   "outputs": [
    {
     "data": {
      "text/html": [
       "<div>\n",
       "<table border=\"1\" class=\"dataframe\">\n",
       "  <thead>\n",
       "    <tr style=\"text-align: right;\">\n",
       "      <th></th>\n",
       "      <th>epi_week</th>\n",
       "      <th>disease</th>\n",
       "      <th>number_of_cases</th>\n",
       "      <th>year</th>\n",
       "      <th>week</th>\n",
       "    </tr>\n",
       "  </thead>\n",
       "  <tbody>\n",
       "    <tr>\n",
       "      <th>7</th>\n",
       "      <td>2012-W01</td>\n",
       "      <td>Dengue Haemorrhagic Fever</td>\n",
       "      <td>0</td>\n",
       "      <td>2012</td>\n",
       "      <td>1</td>\n",
       "    </tr>\n",
       "    <tr>\n",
       "      <th>38</th>\n",
       "      <td>2012-W02</td>\n",
       "      <td>Dengue Haemorrhagic Fever</td>\n",
       "      <td>2</td>\n",
       "      <td>2012</td>\n",
       "      <td>2</td>\n",
       "    </tr>\n",
       "    <tr>\n",
       "      <th>69</th>\n",
       "      <td>2012-W03</td>\n",
       "      <td>Dengue Haemorrhagic Fever</td>\n",
       "      <td>1</td>\n",
       "      <td>2012</td>\n",
       "      <td>3</td>\n",
       "    </tr>\n",
       "    <tr>\n",
       "      <th>100</th>\n",
       "      <td>2012-W04</td>\n",
       "      <td>Dengue Haemorrhagic Fever</td>\n",
       "      <td>2</td>\n",
       "      <td>2012</td>\n",
       "      <td>4</td>\n",
       "    </tr>\n",
       "    <tr>\n",
       "      <th>131</th>\n",
       "      <td>2012-W05</td>\n",
       "      <td>Dengue Haemorrhagic Fever</td>\n",
       "      <td>1</td>\n",
       "      <td>2012</td>\n",
       "      <td>5</td>\n",
       "    </tr>\n",
       "  </tbody>\n",
       "</table>\n",
       "</div>"
      ],
      "text/plain": [
       "     epi_week                    disease  number_of_cases  year  week\n",
       "7    2012-W01  Dengue Haemorrhagic Fever                0  2012     1\n",
       "38   2012-W02  Dengue Haemorrhagic Fever                2  2012     2\n",
       "69   2012-W03  Dengue Haemorrhagic Fever                1  2012     3\n",
       "100  2012-W04  Dengue Haemorrhagic Fever                2  2012     4\n",
       "131  2012-W05  Dengue Haemorrhagic Fever                1  2012     5"
      ]
     },
     "execution_count": 38,
     "metadata": {},
     "output_type": "execute_result"
    }
   ],
   "source": [
    "dengue_h_fever_data.head()"
   ]
  },
  {
   "cell_type": "markdown",
   "metadata": {},
   "source": [
    "## Plot trends of the disease data - number of cases on weekly basis"
   ]
  },
  {
   "cell_type": "code",
   "execution_count": null,
   "metadata": {
    "collapsed": true
   },
   "outputs": [],
   "source": []
  }
 ],
 "metadata": {
  "kernelspec": {
   "display_name": "Python 2",
   "language": "python",
   "name": "python2"
  },
  "language_info": {
   "codemirror_mode": {
    "name": "ipython",
    "version": 2
   },
   "file_extension": ".py",
   "mimetype": "text/x-python",
   "name": "python",
   "nbconvert_exporter": "python",
   "pygments_lexer": "ipython2",
   "version": "2.7.6"
  }
 },
 "nbformat": 4,
 "nbformat_minor": 0
}
